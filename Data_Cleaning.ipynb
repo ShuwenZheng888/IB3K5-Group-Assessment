{
 "cells": [
  {
   "cell_type": "markdown",
   "metadata": {},
   "source": [
    "# IB3K5(Group 30) Data Cleaning Code Combination"
   ]
  },
  {
   "cell_type": "markdown",
   "metadata": {},
   "source": [
    "<span style=\"font-family: 'Times New Roman', Times, serif; font-size: 18px; padding: 5px;\">This code is used to check if the excel data has any null or duplicate value.(see Check_Data.py)</span>"
   ]
  },
  {
   "cell_type": "code",
   "execution_count": 1,
   "metadata": {
    "scrolled": true
   },
   "outputs": [
    {
     "name": "stdout",
     "output_type": "stream",
     "text": [
      "Customer ID               0\n",
      "Age                       0\n",
      "Gender                    0\n",
      "Item Purchased            0\n",
      "Category                  0\n",
      "Purchase Amount (USD)     0\n",
      "Location                  0\n",
      "Size                      0\n",
      "Color                     0\n",
      "Season                    0\n",
      "Review Rating             0\n",
      "Subscription Status       0\n",
      "Shipping Type             0\n",
      "Discount Applied          0\n",
      "Promo Code Used           0\n",
      "Previous Purchases        0\n",
      "Payment Method            0\n",
      "Frequency of Purchases    0\n",
      "dtype: int64\n",
      "The data has 0 duplicate variables.\n"
     ]
    }
   ],
   "source": [
    "import pandas as pd\n",
    "\n",
    "#Check if there is any null or duplicate data\n",
    "# Read the data and set the preference\n",
    "data = pd.read_excel('/Users/mac/Desktop/IB3K5/CustomerShoppingTrends.xlsx')\n",
    "pd.set_option('display.max_rows', None)\n",
    "\n",
    "check_null = data.isnull().sum()\n",
    "check_duplicate = data.duplicated().sum()\n",
    "\n",
    "print(check_null)\n",
    "print(f\"The data has {check_duplicate} duplicate variables.\")"
   ]
  },
  {
   "cell_type": "markdown",
   "metadata": {},
   "source": [
    "<span style=\"font-family: 'Times New Roman', Times, serif; font-size: 18px; padding: 5px;\">This code is used to check if the Purchase Amount column have any outliers and draw boxplot to visualize.</span>"
   ]
  },
  {
   "cell_type": "code",
   "execution_count": 2,
   "metadata": {},
   "outputs": [
    {
     "name": "stdout",
     "output_type": "stream",
     "text": [
      "Empty DataFrame\n",
      "Columns: [Customer ID, Age, Gender, Item Purchased, Category, Purchase Amount (USD), Location, Size, Color, Season, Review Rating, Subscription Status, Shipping Type, Discount Applied, Promo Code Used, Previous Purchases, Payment Method, Frequency of Purchases]\n",
      "Index: []\n"
     ]
    },
    {
     "data": {
      "image/png": "[encoded data removed]",
      "text/plain": [
       "<Figure size 640x480 with 1 Axes>"
      ]
     },
     "metadata": {},
     "output_type": "display_data"
    }
   ],
   "source": [
    "import matplotlib.pyplot as plt\n",
    "\n",
    "# Interquartile Range (IQR) method to check is there is any outliers of Purchase Amount\n",
    "Q1 = data['Purchase Amount (USD)'].quantile(0.25)\n",
    "Q3 = data['Purchase Amount (USD)'].quantile(0.75)\n",
    "IQR = Q3 - Q1\n",
    "lower_bound = Q1 - 1.5 * IQR\n",
    "upper_bound = Q3 + 1.5 * IQR\n",
    "\n",
    "outliers = data[(data['Purchase Amount (USD)'] < lower_bound) | (data['Purchase Amount (USD)'] > upper_bound)]\n",
    "print(outliers)\n",
    "\n",
    "# Boxplot to visualize outliers\n",
    "data['Purchase Amount (USD)'].plot(kind='box')\n",
    "plt.title('Boxplot of Purchse Amount')\n",
    "plt.show()"
   ]
  },
  {
   "cell_type": "markdown",
   "metadata": {},
   "source": [
    "<span style=\"font-family: 'Times New Roman', Times, serif; font-size: 18px; padding: 5px;\">This code is used to check if the Age column have any outliers and draw boxplot to visualize.</span>"
   ]
  },
  {
   "cell_type": "code",
   "execution_count": 3,
   "metadata": {},
   "outputs": [
    {
     "name": "stdout",
     "output_type": "stream",
     "text": [
      "Empty DataFrame\n",
      "Columns: [Customer ID, Age, Gender, Item Purchased, Category, Purchase Amount (USD), Location, Size, Color, Season, Review Rating, Subscription Status, Shipping Type, Discount Applied, Promo Code Used, Previous Purchases, Payment Method, Frequency of Purchases]\n",
      "Index: []\n"
     ]
    },
    {
     "data": {
      "image/png": "[encoded data removed]",
      "text/plain": [
       "<Figure size 640x480 with 1 Axes>"
      ]
     },
     "metadata": {},
     "output_type": "display_data"
    }
   ],
   "source": [
    "import matplotlib.pyplot as plt\n",
    "\n",
    "# Interquartile Range (IQR) method to check if there is any outliers of Age\n",
    "Q1 = data['Age'].quantile(0.25)\n",
    "Q3 = data['Age'].quantile(0.75)\n",
    "IQR = Q3 - Q1\n",
    "lower_bound = Q1 - 1.5 * IQR\n",
    "upper_bound = Q3 + 1.5 * IQR\n",
    "\n",
    "outliers = data[(data['Age'] < lower_bound) | (data['Age'] > upper_bound)]\n",
    "print(outliers)\n",
    "\n",
    "# Boxplot to visualize outliers\n",
    "data['Age'].plot(kind='box')\n",
    "plt.title('Boxplot of Age')\n",
    "plt.show()"
   ]
  },
  {
   "cell_type": "markdown",
   "metadata": {},
   "source": [
    "\n",
    "<span style=\"font-family: 'Times New Roman', Times, serif; font-size: 18px; padding: 5px;\">This code is used to check if the two numeric columns(Purchase Amount and Age) have any values except from number.</span>"
   ]
  },
  {
   "cell_type": "code",
   "execution_count": 4,
   "metadata": {},
   "outputs": [
    {
     "name": "stdout",
     "output_type": "stream",
     "text": [
      "Purchase Amount (USD) column contains non-numeric values: False\n",
      "Age column contains non-numeric values: False\n"
     ]
    }
   ],
   "source": [
    "import pandas as pd\n",
    "\n",
    "#Check if any purchase amount column has other variables except from number\n",
    "converted_column = pd.to_numeric(data['Purchase Amount (USD)'], errors='coerce')\n",
    "has_non_numerics = converted_column.isnull().any()\n",
    "print(f\"Purchase Amount (USD) column contains non-numeric values: {has_non_numerics}\")\n",
    "\n",
    "#Check if any age column has other variables except from number\n",
    "converted_column = pd.to_numeric(data['Age'], errors='coerce')\n",
    "has_non_numerics = converted_column.isnull().any()\n",
    "print(f\"Age column contains non-numeric values: {has_non_numerics}\")\n"
   ]
  },
  {
   "cell_type": "markdown",
   "metadata": {},
   "source": [
    "\n",
    "<span style=\"font-family: 'Times New Roman', Times, serif; font-size: 18px; padding: 5px;\">This code is used to check if the three categorical columns(Category, Color and Location) have any values except from string.</span>"
   ]
  },
  {
   "cell_type": "code",
   "execution_count": 5,
   "metadata": {},
   "outputs": [
    {
     "name": "stdout",
     "output_type": "stream",
     "text": [
      "Color column contains non-string values: False\n",
      "Location column contains non-string values: False\n",
      "Category column contains non-string values: False\n"
     ]
    }
   ],
   "source": [
    "\n",
    "#Check if any color column has other variables except from string\n",
    "color_non_string = data['Color'].apply(lambda x: not isinstance(x, str))\n",
    "color_has_non_strings = color_non_string.any()\n",
    "print(f\"Color column contains non-string values: {color_has_non_strings}\")\n",
    "\n",
    "#Check if any location column has other variables except from string\n",
    "location_non_string = data['Location'].apply(lambda x: not isinstance(x, str))\n",
    "location_has_non_strings = location_non_string.any()\n",
    "print(f\"Location column contains non-string values: {location_has_non_strings}\")\n",
    "\n",
    "#Check if any category column has other variables except from string\n",
    "category_non_string = data['Category'].apply(lambda x: not isinstance(x, str))\n",
    "category_has_non_strings = category_non_string.any()\n",
    "print(f\"Category column contains non-string values: {category_has_non_strings}\")\n"
   ]
  }
 ],
 "metadata": {
  "kernelspec": {
   "display_name": "Python 3 (ipykernel)",
   "language": "python",
   "name": "python3"
  },
  "language_info": {
   "codemirror_mode": {
    "name": "ipython",
    "version": 3
   },
   "file_extension": ".py",
   "mimetype": "text/x-python",
   "name": "python",
   "nbconvert_exporter": "python",
   "pygments_lexer": "ipython3",
   "version": "3.11.5"
  }
 },
 "nbformat": 4,
 "nbformat_minor": 2
}
